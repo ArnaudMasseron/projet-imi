{
 "cells": [
  {
   "cell_type": "markdown",
   "metadata": {},
   "source": [
    "This code is a 1D test with the time dependent example given in https://deepxde.readthedocs.io/en/latest/demos/pinn_forward/diffusion.1d.html . \n",
    "<br> We use her Pytorch (because most used to it ) and we observe the evolution of the solution, especially if it gives the (if its unique, we don't know) analytical solution $u(x, t) = e^{-t}sin(\\pi x)$."
   ]
  },
  {
   "cell_type": "code",
   "execution_count": null,
   "metadata": {},
   "outputs": [],
   "source": [
    "#TIme dependent example of the presentation\n",
    "\"\"\"Backend supported: tensorflow.compat.v1, tensorflow, pytorch, jax, paddle\"\"\"\n",
    "import os\n",
    "os.environ['DDE_BACKEND'] = 'pytorch'\n",
    "import torch"
   ]
  },
  {
   "cell_type": "code",
   "execution_count": null,
   "metadata": {},
   "outputs": [],
   "source": [
    "# Check if CUDA (GPU) is available and set default tensor type to cuda, but I haven't installed cuda yet\n",
    "if torch.cuda.is_available():\n",
    "    torch.set_default_tensor_type('torch.cuda.FloatTensor')\n",
    "    print(\"/////////////////\\n Tensors type on GPU \\n///////////////\")\n",
    "print(\"/////////////////\\n Tensors type on CPU \\n///////////////\")"
   ]
  },
  {
   "cell_type": "code",
   "execution_count": null,
   "metadata": {},
   "outputs": [],
   "source": [
    "import deepxde as dde\n",
    "import matplotlib.pyplot as plt\n",
    "import numpy as np"
   ]
  },
  {
   "cell_type": "code",
   "execution_count": null,
   "metadata": {},
   "outputs": [],
   "source": [
    "def pde(x, y):\n",
    "    # Most backends\n",
    "    dy_t = dde.grad.jacobian(y, x, j=1)\n",
    "    dy_xx = dde.grad.hessian(y, x, j=0)\n",
    "\n",
    "     \n",
    "    return (\n",
    "        dy_t\n",
    "        - dy_xx\n",
    "        + torch.exp(-x[:, 1:])\n",
    "        * (torch.sin(np.pi * x[:, 0:1]) - np.pi ** 2 * torch.sin(np.pi * x[:, 0:1]))\n",
    "    )\n",
    "\n",
    "\n",
    "def func(x):\n",
    "    return np.sin(np.pi * x[:, 0:1]) * np.exp(-x[:, 1:])\n",
    "\n",
    "\n",
    "geom = dde.geometry.Interval(-1, 1)\n",
    "timedomain = dde.geometry.TimeDomain(0, 1)\n",
    "geomtime = dde.geometry.GeometryXTime(geom, timedomain)\n",
    "\n",
    "\n",
    "\n",
    "\n",
    "model.compile(\"adam\", lr=0.001, metrics=[\"l2 relative error\"])\n",
    "losshistory, train_state = model.train(iterations=10000)\n",
    "\n",
    "dde.saveplot(losshistory, train_state, issave=True, isplot=True)"
   ]
  },
  {
   "cell_type": "code",
   "execution_count": null,
   "metadata": {},
   "outputs": [],
   "source": [
    "#IC and BC\n",
    "bc = dde.icbc.DirichletBC(geomtime, func, lambda _, on_boundary: on_boundary)\n",
    "ic = dde.icbc.IC(geomtime, func, lambda _, on_initial: on_initial)"
   ]
  },
  {
   "cell_type": "code",
   "execution_count": null,
   "metadata": {},
   "outputs": [],
   "source": [
    "#Data and Model\n",
    "\n",
    "data = dde.data.TimePDE(\n",
    "    geomtime,\n",
    "    pde,\n",
    "    [bc, ic],\n",
    "    num_domain=40,\n",
    "    num_boundary=20,\n",
    "    num_initial=10,\n",
    "    solution=func,\n",
    "    num_test=10000,\n",
    ")\n",
    "\n",
    "layer_size = [2] + [32] * 3 + [1]\n",
    "activation = \"tanh\"\n",
    "initializer = \"Glorot uniform\"\n",
    "net = dde.nn.FNN(layer_size, activation, initializer)\n",
    "\n",
    "model = dde.Model(data, net)"
   ]
  },
  {
   "cell_type": "code",
   "execution_count": null,
   "metadata": {},
   "outputs": [],
   "source": [
    "#Training \n",
    "model.compile(\"adam\", lr=0.001)\n",
    "losshistory, train_state = model.train(iterations=10000)\n",
    "\n",
    "dde.saveplot(losshistory, train_state, issave=True, isplot=True)\n"
   ]
  }
 ],
 "metadata": {
  "language_info": {
   "name": "python"
  }
 },
 "nbformat": 4,
 "nbformat_minor": 2
}
